{
  "nbformat": 4,
  "nbformat_minor": 0,
  "metadata": {
    "colab": {
      "provenance": [],
      "authorship_tag": "ABX9TyPj8lFOTk9NTXT9DEq6llWD",
      "include_colab_link": true
    },
    "kernelspec": {
      "name": "python3",
      "display_name": "Python 3"
    },
    "language_info": {
      "name": "python"
    }
  },
  "cells": [
    {
      "cell_type": "markdown",
      "metadata": {
        "id": "view-in-github",
        "colab_type": "text"
      },
      "source": [
        "<a href=\"https://colab.research.google.com/github/Nivedha1524/AIAC/blob/main/TASK2_1.ipynb\" target=\"_parent\"><img src=\"https://colab.research.google.com/assets/colab-badge.svg\" alt=\"Open In Colab\"/></a>"
      ]
    },
    {
      "cell_type": "markdown",
      "source": [],
      "metadata": {
        "id": "CYOtruuOYy2-"
      }
    },
    {
      "cell_type": "markdown",
      "source": [
        "TASK1:  Description #1\n",
        "● Use Google Gemini in Colab to write a Python function that reads\n",
        "a list of numbers and calculates the mean, minimum, and\n",
        "maximum values\n",
        "\n",
        "PROMPT: write a Python function that reads\n",
        "a list of numbers and calculates the mean, minimum, and\n",
        "maximum values."
      ],
      "metadata": {
        "id": "GQ0oNEWNY0fH"
      }
    },
    {
      "cell_type": "code",
      "source": [
        "def analyze_numbers(number_list):\n",
        "  \"\"\"\n",
        "  Calculates the mean, minimum, and maximum of a list of numbers.\n",
        "\n",
        "  Args:\n",
        "    number_list: A list of numbers.\n",
        "\n",
        "  Returns:\n",
        "    A tuple containing the mean, minimum, and maximum values.\n",
        "    Returns (None, None, None) if the list is empty.\n",
        "  \"\"\"\n",
        "  if not number_list:\n",
        "    return None, None, None\n",
        "\n",
        "  mean_value = sum(number_list) / len(number_list)\n",
        "  min_value = min(number_list)\n",
        "  max_value = max(number_list)\n",
        "\n",
        "  return mean_value, min_value, max_value\n",
        "\n",
        "# Example usage:\n",
        "my_list = [10, 20, 30, 40, 50]\n",
        "mean, min_val, max_val = analyze_numbers(my_list)\n",
        "\n",
        "if mean is not None:\n",
        "  print(f\"List: {my_list}\")\n",
        "  print(f\"Mean: {mean}\")\n",
        "  print(f\"Minimum: {min_val}\")\n",
        "  print(f\"Maximum: {max_val}\")\n",
        "\n",
        "empty_list = []\n",
        "mean, min_val, max_val = analyze_numbers(empty_list)\n",
        "if mean is None:\n",
        "  print(\"\\nEmpty list analysis:\")\n",
        "  print(\"The list is empty, cannot calculate mean, min, or max.\")"
      ],
      "metadata": {
        "colab": {
          "base_uri": "https://localhost:8080/"
        },
        "id": "JuNvBcohZOeO",
        "outputId": "2e3b6307-ca0e-4fee-aab9-1ec11c78c313"
      },
      "execution_count": 2,
      "outputs": [
        {
          "output_type": "stream",
          "name": "stdout",
          "text": [
            "List: [10, 20, 30, 40, 50]\n",
            "Mean: 30.0\n",
            "Minimum: 10\n",
            "Maximum: 50\n",
            "\n",
            "Empty list analysis:\n",
            "The list is empty, cannot calculate mean, min, or max.\n"
          ]
        }
      ]
    },
    {
      "cell_type": "markdown",
      "source": [
        "EXPLANATION:\n",
        "The analyze_numbers function is designed to calculate the mean, minimum, and maximum values from a list of numbers. Here's how it works:\n",
        "\n",
        "- def analyze_numbers(number_list):: This line defines the function named analyze_numbers and indicates that it accepts one argument, number_list, which is expected to be a list of numbers.\n",
        "- \"\"\"Docstring\"\"\": This is a docstring that explains the function's purpose, arguments, and return values.\n",
        "- if not number_list:: This checks if the input number_list is empty. If it is, the function returns (None, None, None) because you can't calculate mean, min, or max for an empty list.\n",
        "- mean_value = sum(number_list) / len(number_list): If the list is not empty, this line calculates the mean by summing all the numbers in the list using sum() and dividing by the number of elements in the list using len().\n",
        "- min_value = min(number_list): This line finds the minimum value in the list using the built-in min() function.\n",
        "- max_value = max(number_list): This line finds the maximum value in the list using the built-in max() function.\n",
        "return mean_value, min_value, max_value: Finally, the function returns a tuple containing the calculated mean, minimum, and maximum values in that order.\n",
        "This function provides a concise way to get these three statistical measures from any given list of numbers."
      ],
      "metadata": {
        "id": "bKsETEWyZcqO"
      }
    },
    {
      "cell_type": "markdown",
      "source": [
        "TASK-02: Description #2\n",
        "Compare Gemini and Copilot outputs for a Python function that\n",
        "checks whether a number is an Armstrong number. Document the\n",
        "steps, prompts, and outputs\n",
        "\n",
        "PROMPT:WRITE A PYTHON FUNCTION TO CHECK WHETHER A NUMBER IS AN ARMSTRONG NUMBER"
      ],
      "metadata": {
        "id": "JewceNJLaOKe"
      }
    },
    {
      "cell_type": "code",
      "source": [
        "def is_armstrong_number(number):\n",
        "    \"\"\"\n",
        "    Checks if a number is an Armstrong number.\n",
        "\n",
        "    An Armstrong number is a number that is the sum of its own digits\n",
        "    each raised to the power of the number of digits.\n",
        "\n",
        "    Args:\n",
        "        number: An integer.\n",
        "\n",
        "    Returns:\n",
        "        True if the number is an Armstrong number, False otherwise.\n",
        "    \"\"\"\n",
        "    # Convert the number to a string to get the number of digits\n",
        "    num_str = str(number)\n",
        "    num_digits = len(num_str)\n",
        "\n",
        "    # Calculate the sum of each digit raised to the power of num_digits\n",
        "    armstrong_sum = 0\n",
        "    for digit in num_str:\n",
        "        armstrong_sum += int(digit) ** num_digits\n",
        "\n",
        "    # Check if the sum equals the original number\n",
        "    return armstrong_sum == number\n",
        "\n",
        "# Example usage:\n",
        "print(f\"Is 153 an Armstrong number? {is_armstrong_number(153)}\")\n",
        "print(f\"Is 9 an Armstrong number? {is_armstrong_number(9)}\")\n",
        "print(f\"Is 10 an Armstrong number? {is_armstrong_number(10)}\")\n",
        "print(f\"Is 371 an Armstrong number? {is_armstrong_number(371)}\")"
      ],
      "metadata": {
        "colab": {
          "base_uri": "https://localhost:8080/"
        },
        "id": "QsCzMquma7ku",
        "outputId": "068aa872-21be-40be-a7d6-aee5e9a261af"
      },
      "execution_count": 3,
      "outputs": [
        {
          "output_type": "stream",
          "name": "stdout",
          "text": [
            "Is 153 an Armstrong number? True\n",
            "Is 9 an Armstrong number? True\n",
            "Is 10 an Armstrong number? False\n",
            "Is 371 an Armstrong number? True\n"
          ]
        }
      ]
    },
    {
      "cell_type": "markdown",
      "source": [
        "EXPLANATION:\n",
        " the is_armstrong_number function:\n",
        "\n",
        "def is_armstrong_number(number):: This line defines the function named is_armstrong_number and indicates that it takes one argument, number.\n",
        "\"\"\"Docstring\"\"\": This is a docstring that explains the function's purpose, which is to check if a number is an Armstrong number. It also defines what an Armstrong number is.\n",
        "num_str = str(number): This converts the input number into a string so that we can easily access each digit.\n",
        "num_digits = len(num_str): This calculates the number of digits in the number by getting the length of the string representation.\n",
        "armstrong_sum = 0: This initializes a variable armstrong_sum to store the sum of the digits raised to the power of the number of digits.\n",
        "for digit in num_str:: This loop iterates through each character (digit) in the num_str.\n",
        "armstrong_sum += int(digit) ** num_digits: Inside the loop, each digit (which is a string character) is converted back to an integer using int(). This integer is then raised to the power of num_digits using the ** operator, and the result is added to armstrong_sum.\n",
        "return armstrong_sum == number: After the loop finishes, this line compares the calculated armstrong_sum with the original number. If they are equal, the function returns True, indicating that the number is an Armstrong number. Otherwise, it returns False.\n",
        "This function effectively implements the definition of an Armstrong number to check if a given integer meets the criteria."
      ],
      "metadata": {
        "id": "fAWHFvlWbMSW"
      }
    },
    {
      "cell_type": "markdown",
      "source": [
        "![image.png](data:image/png;base64,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)"
      ],
      "metadata": {
        "id": "6wyBtgq9eDeX"
      }
    },
    {
      "cell_type": "markdown",
      "source": [
        "![Screenshot 2025-08-11 101828.png](data:image/png;base64,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)"
      ],
      "metadata": {
        "id": "DR5QdsdaeK7n"
      }
    },
    {
      "cell_type": "markdown",
      "source": [
        "COMPARISION:\n",
        "*   **Code Structure:** The overall structure and variable names might differ slightly between the two. (Based on the images you provided, Copilot's variable names might be slightly different).\n",
        "*   **Return Statement:** Gemini's code uses a more concise `return sum_of_powers == number` which directly returns the boolean result of the comparison. Copilot's code (based on the image) uses an `if/else` block to explicitly return `True` or `False`. Both are functionally correct, but the Gemini approach is generally considered more Pythonic.\n",
        "*   **Comments:** The comments and docstrings provided might vary in detail and style.\n",
        "Overall, both models provide functionally correct solutions to the problem. The main differences lie in minor stylistic choices and the conciseness of the return statement."
      ],
      "metadata": {
        "id": "v8xOYdnaeTrZ"
      }
    },
    {
      "cell_type": "markdown",
      "source": [
        "TASK-03 : Description #3\n",
        "● Ask Gemini to explain a Python function (e.g., is_prime(n) or\n",
        "is_palindrome(s)) line by line.\n",
        "● Choose either a prime-checking or palindrome-checking function\n",
        "and document the explanation provided by Gemini\n",
        "\n",
        "PROMPT:\n",
        "WRITE A PYHTON FUNCTION TO CHECK WHETHER A NUMBER IS PALINDROME"
      ],
      "metadata": {
        "id": "1ShRdvB5f7zp"
      }
    },
    {
      "cell_type": "code",
      "source": [
        "def is_palindrome_number(number):\n",
        "  \"\"\"\n",
        "  Checks if a number is a palindrome.\n",
        "\n",
        "  A palindrome number reads the same backward as forward.\n",
        "\n",
        "  Args:\n",
        "    number: An integer.\n",
        "\n",
        "  Returns:\n",
        "    True if the number is a palindrome, False otherwise.\n",
        "  \"\"\"\n",
        "  # Convert the number to a string\n",
        "  num_str = str(number)\n",
        "  # Reverse the string\n",
        "  reversed_num_str = num_str[::-1]\n",
        "  # Check if the original string is equal to the reversed string\n",
        "  return num_str == reversed_num_str\n",
        "\n",
        "# Example usage:\n",
        "print(f\"Is 121 a palindrome number? {is_palindrome_number(121)}\")\n",
        "print(f\"Is 123 a palindrome number? {is_palindrome_number(123)}\")\n",
        "print(f\"Is 1001 a palindrome number? {is_palindrome_number(1001)}\")"
      ],
      "metadata": {
        "colab": {
          "base_uri": "https://localhost:8080/"
        },
        "id": "aHI6MiXwghQA",
        "outputId": "a8de90db-b710-4f57-89c7-44f278a40fe9"
      },
      "execution_count": 4,
      "outputs": [
        {
          "output_type": "stream",
          "name": "stdout",
          "text": [
            "Is 121 a palindrome number? True\n",
            "Is 123 a palindrome number? False\n",
            "Is 1001 a palindrome number? True\n"
          ]
        }
      ]
    },
    {
      "cell_type": "markdown",
      "source": [
        "EXPLANATION:\n",
        "the is_palindrome_number function:\n",
        "\n",
        "def is_palindrome_number(number):: This line defines the function named is_palindrome_number and indicates that it takes one argument, number.\n",
        "\"\"\"Docstring\"\"\": This is a docstring that explains the function's purpose, which is to check if a number is a palindrome. It also defines what a palindrome number is.\n",
        "num_str = str(number): This converts the input number into a string. This is done because it's easier to check for palindromes with strings than with integers directly.\n",
        "reversed_num_str = num_str[::-1]: This line reverses the string num_str. The [::-1] is a Python slicing trick that creates a reversed copy of the string.\n",
        "return num_str == reversed_num_str: Finally, this line compares the original string (num_str) with the reversed string (reversed_num_str). If they are equal, the function returns True, indicating that the number is a palindrome. Otherwise, it returns False.\n",
        "This function provides a simple and efficient way to check if a given integer is a palindrome."
      ],
      "metadata": {
        "id": "rTx6gSXmgrEA"
      }
    },
    {
      "cell_type": "markdown",
      "source": [
        "Task-04: Description #4\n",
        "● Install and configure Cursor AI. Use it to generate a Python\n",
        "function (e.g., sum of the first N natural numbers) and test its\n",
        "output.\n",
        "● Optionally, compare Cursor AI’s generated code with Gemini’s\n",
        "output\n",
        "\n",
        "PROMPT: WRITE A PYTHON FUNCTION TO GET SUM OF THE FIRST N NATURAL NUMBERS"
      ],
      "metadata": {
        "id": "S6bMHvgxhDX4"
      }
    },
    {
      "cell_type": "code",
      "source": [
        "def sum_of_natural_numbers(n):\n",
        "  \"\"\"\n",
        "  Calculates the sum of the first n natural numbers.\n",
        "\n",
        "  Args:\n",
        "    n: An integer representing the number of natural numbers.\n",
        "\n",
        "  Returns:\n",
        "    The sum of the first n natural numbers.\n",
        "    Returns 0 if n is less than or equal to 0.\n",
        "  \"\"\"\n",
        "  if n <= 0:\n",
        "    return 0\n",
        "  # Using the formula for the sum of the first n natural numbers: n * (n + 1) / 2\n",
        "  return n * (n + 1) // 2\n",
        "\n",
        "# Example usage:\n",
        "print(f\"The sum of the first 10 natural numbers is: {sum_of_natural_numbers(10)}\")"
      ],
      "metadata": {
        "colab": {
          "base_uri": "https://localhost:8080/"
        },
        "id": "kB8neKvWheTA",
        "outputId": "fa50f8f7-6069-4161-c52e-4165e5d6e74c"
      },
      "execution_count": 6,
      "outputs": [
        {
          "output_type": "stream",
          "name": "stdout",
          "text": [
            "The sum of the first 10 natural numbers is: 55\n"
          ]
        }
      ]
    },
    {
      "cell_type": "markdown",
      "source": [
        "EXPLANATION:\n",
        " the sum_of_natural_numbers function:\n",
        "\n",
        "def sum_of_natural_numbers(n):: This line defines the function named sum_of_natural_numbers and indicates that it takes one argument, n, which represents the number of natural numbers you want to sum.\n",
        "\"\"\"Docstring\"\"\": This is a docstring that explains the function's purpose, arguments, and what it returns.\n",
        "if n <= 0:: This checks if the input number n is less than or equal to 0. If it is, the sum of natural numbers is 0, so the function returns 0.\n",
        "return n * (n + 1) // 2: If n is greater than 0, this line calculates the sum of the first n natural numbers using the mathematical formula: n * (n + 1) / 2. The // 2 ensures integer division.\n",
        "This function provides an efficient way to calculate the sum of the first N natural numbers using a well-known formula."
      ],
      "metadata": {
        "id": "3Xa9PeU7hns4"
      }
    },
    {
      "cell_type": "markdown",
      "source": [
        "Task-05 : Description #5\n",
        "● Students need to write a Python program to calculate the sum of\n",
        "odd numbers and even numbers in a given tuple.\n",
        "● Refactor the code to improve logic and readability\n",
        "\n",
        "PROMPT:\n",
        "WRITE A PYTHON PROGRAM TO CALCULATE THE SUM OF ODD NUMBERS AND EVEN NUMBERS IN A GIVEN TUPLE"
      ],
      "metadata": {
        "id": "hSaTl6aXiL5g"
      }
    },
    {
      "cell_type": "code",
      "source": [
        "def sum_odd_even(numbers):\n",
        "  \"\"\"\n",
        "  Calculates the sum of odd and even numbers in a tuple.\n",
        "\n",
        "  Args:\n",
        "    numbers: A tuple of numbers.\n",
        "\n",
        "  Returns:\n",
        "    A tuple containing the sum of odd numbers and the sum of even numbers.\n",
        "  \"\"\"\n",
        "  sum_odd = 0\n",
        "  sum_even = 0\n",
        "  for number in numbers:\n",
        "    if number % 2 == 0:\n",
        "      sum_even += number\n",
        "    else:\n",
        "      sum_odd += number\n",
        "  return sum_odd, sum_even\n",
        "\n",
        "# Example usage:\n",
        "my_tuple = (1, 2, 3, 4, 5, 6, 7, 8, 9, 10)\n",
        "odd_sum, even_sum = sum_odd_even(my_tuple)\n",
        "\n",
        "print(f\"Original tuple: {my_tuple}\")\n",
        "print(f\"Sum of odd numbers: {odd_sum}\")\n",
        "print(f\"Sum of even numbers: {even_sum}\")"
      ],
      "metadata": {
        "colab": {
          "base_uri": "https://localhost:8080/"
        },
        "id": "J-7_VFAvioiA",
        "outputId": "d88432c1-d5ab-4a04-bd00-dc82fefb0489"
      },
      "execution_count": 7,
      "outputs": [
        {
          "output_type": "stream",
          "name": "stdout",
          "text": [
            "Original tuple: (1, 2, 3, 4, 5, 6, 7, 8, 9, 10)\n",
            "Sum of odd numbers: 25\n",
            "Sum of even numbers: 30\n"
          ]
        }
      ]
    },
    {
      "cell_type": "markdown",
      "source": [
        "EXPLANATION:\n",
        "the sum_odd_even function:\n",
        "\n",
        "def sum_odd_even(numbers):: This line defines the function named sum_odd_even and indicates that it takes one argument, numbers, which is expected to be a tuple of numbers.\n",
        "\"\"\"Docstring\"\"\": This is a docstring that explains the function's purpose, arguments, and what it returns.\n",
        "sum_odd = 0 and sum_even = 0: These lines initialize two variables, sum_odd and sum_even, to 0. These variables will store the cumulative sum of the odd and even numbers, respectively.\n",
        "for number in numbers:: This loop iterates through each number in the input numbers tuple.\n",
        "if number % 2 == 0:: Inside the loop, this checks if the current number is even by using the modulo operator (%). If the remainder when divided by 2 is 0, the number is even.\n",
        "sum_even += number: If the number is even, it is added to the sum_even variable.\n",
        "else:: If the number is not even (i.e., it's odd).\n",
        "sum_odd += number: The odd number is added to the sum_odd variable.\n",
        "return sum_odd, sum_even: After the loop has processed all the numbers in the tuple, the function returns a tuple containing the final sum_odd and sum_even values.\n",
        "This function efficiently separates and sums the odd and even numbers within a given tuple."
      ],
      "metadata": {
        "id": "uODOPOu8ithi"
      }
    }
  ]
}